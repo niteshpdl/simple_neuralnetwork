{
  "nbformat": 4,
  "nbformat_minor": 0,
  "metadata": {
    "colab": {
      "provenance": [],
      "authorship_tag": "ABX9TyPoZc2edVUuXiNTpguE2aI0",
      "include_colab_link": true
    },
    "kernelspec": {
      "name": "python3",
      "display_name": "Python 3"
    },
    "language_info": {
      "name": "python"
    }
  },
  "cells": [
    {
      "cell_type": "markdown",
      "metadata": {
        "id": "view-in-github",
        "colab_type": "text"
      },
      "source": [
        "<a href=\"https://colab.research.google.com/github/niteshpdl/simple_neuralnetwork/blob/main/simple_neuralnetwork.ipynb\" target=\"_parent\"><img src=\"https://colab.research.google.com/assets/colab-badge.svg\" alt=\"Open In Colab\"/></a>"
      ]
    },
    {
      "cell_type": "code",
      "execution_count": 1,
      "metadata": {
        "id": "vgLLPwaq7syA"
      },
      "outputs": [],
      "source": [
        "import torch\n",
        "import torch.nn as nn\n",
        "import torch.nn.functional as F"
      ]
    },
    {
      "cell_type": "code",
      "source": [
        "# create a model class that inherits nn.Module\n",
        "class Model(nn.Module):\n",
        "  #Input Layer (4 layers of flower)\n",
        "  #Hidden Layer1 (number of neurons) -->\n",
        "  H2 (n) -->\n",
        "  #output (3 classes of iris flower)"
      ],
      "metadata": {
        "id": "jZppJ8OF8qY7"
      },
      "execution_count": null,
      "outputs": []
    }
  ]
}